{
 "cells": [
  {
   "cell_type": "markdown",
   "metadata": {},
   "source": [
    "Question: 1"
   ]
  },
  {
   "cell_type": "code",
   "execution_count": 82,
   "metadata": {},
   "outputs": [],
   "source": [
    "list = [1,2,3]"
   ]
  },
  {
   "cell_type": "code",
   "execution_count": 83,
   "metadata": {},
   "outputs": [
    {
     "name": "stdout",
     "output_type": "stream",
     "text": [
      "[1, 2, 3, 4]\n"
     ]
    }
   ],
   "source": [
    "list.append(4)\n",
    "print(list)"
   ]
  },
  {
   "cell_type": "code",
   "execution_count": 84,
   "metadata": {},
   "outputs": [
    {
     "name": "stdout",
     "output_type": "stream",
     "text": [
      "[1, 3, 4]\n"
     ]
    }
   ],
   "source": [
    "list.remove(2)\n",
    "print(list)"
   ]
  },
  {
   "cell_type": "code",
   "execution_count": 85,
   "metadata": {},
   "outputs": [
    {
     "name": "stdout",
     "output_type": "stream",
     "text": [
      "[4, 3, 1]\n"
     ]
    }
   ],
   "source": [
    "list.reverse()\n",
    "print(list)"
   ]
  },
  {
   "cell_type": "code",
   "execution_count": 86,
   "metadata": {},
   "outputs": [
    {
     "name": "stdout",
     "output_type": "stream",
     "text": [
      "[1, 3, 4]\n"
     ]
    }
   ],
   "source": [
    "list.sort()\n",
    "print(list)"
   ]
  },
  {
   "cell_type": "code",
   "execution_count": 87,
   "metadata": {},
   "outputs": [
    {
     "name": "stdout",
     "output_type": "stream",
     "text": [
      "[2, 1, 3, 4]\n"
     ]
    }
   ],
   "source": [
    "list.insert(0,2)\n",
    "print(list)"
   ]
  },
  {
   "cell_type": "code",
   "execution_count": 88,
   "metadata": {},
   "outputs": [
    {
     "name": "stdout",
     "output_type": "stream",
     "text": [
      "3\n"
     ]
    }
   ],
   "source": [
    "last_index=len(list) - 1 \n",
    "print(last_index)"
   ]
  },
  {
   "cell_type": "markdown",
   "metadata": {},
   "source": [
    "Question: 2"
   ]
  },
  {
   "cell_type": "code",
   "execution_count": 89,
   "metadata": {},
   "outputs": [
    {
     "name": "stdout",
     "output_type": "stream",
     "text": [
      "Ahmed,Nasser,Mohammed\n"
     ]
    }
   ],
   "source": [
    "people = [\"Ahmed\", \"Nasser\", \"Mohammed\"]\n",
    "counter=1\n",
    "size= len(list)\n",
    "for i in range(len(people)):\n",
    "    counter=counter+1\n",
    "    if( counter != size):\n",
    "      print(people[i], end=\",\")\n",
    "    else:\n",
    "        print(people[i])\n"
   ]
  },
  {
   "cell_type": "markdown",
   "metadata": {},
   "source": [
    "Question: 3"
   ]
  },
  {
   "cell_type": "code",
   "execution_count": 90,
   "metadata": {},
   "outputs": [
    {
     "name": "stdout",
     "output_type": "stream",
     "text": [
      "<class 'list'>\n",
      "[{'Name': 'Ahmed', 'phone_number': '0123456789'}, {'Name': 'Ali', 'phone_number': '5678901234'}, {'Name': 'Ahmed', 'phone_number': '9012345678'}]\n"
     ]
    }
   ],
   "source": [
    "\n",
    "ListDicts=[{\"Name\": \"Ahmed\" ,\"phone_number\": \"0123456789\" },{\"Name\": \"Ali\" ,\"phone_number\": \"5678901234\" },{\"Name\": \"Ahmed\" ,\"phone_number\": \"9012345678\" }]\n",
    "print(type(ListDicts))\n",
    "print(ListDicts)"
   ]
  },
  {
   "cell_type": "code",
   "execution_count": 91,
   "metadata": {},
   "outputs": [
    {
     "name": "stdout",
     "output_type": "stream",
     "text": [
      "before add  [{'Name': 'Ahmed', 'phone_number': '0123456789'}, {'Name': 'Ali', 'phone_number': '5678901234'}, {'Name': 'Ahmed', 'phone_number': '9012345678'}]\n",
      "\n",
      "after adding [{'Name': 'Ahmed', 'phone_number': '0123456789'}, {'Name': 'Ali', 'phone_number': '5678901234'}, {'Name': 'Ahmed', 'phone_number': '9012345678'}, {'Name': 'Mohammed', 'phone_number': '0000000000'}]\n"
     ]
    }
   ],
   "source": [
    "print(\"before add \",ListDicts)\n",
    "newDict={\"Name\": \"Mohammed\" ,\"phone_number\": \"0000000000\" }\n",
    "print()\n",
    "ListDicts.append(newDict)\n",
    "print(\"after adding\",ListDicts)"
   ]
  },
  {
   "cell_type": "code",
   "execution_count": 92,
   "metadata": {},
   "outputs": [
    {
     "name": "stdout",
     "output_type": "stream",
     "text": [
      "[{'phone_number': '0123456789'}, {'Name': 'Ali', 'phone_number': '5678901234'}, {'Name': 'Ahmed', 'phone_number': '9012345678'}, {'Name': 'Mohammed', 'phone_number': '0000000000'}]\n"
     ]
    }
   ],
   "source": [
    "del ListDicts[0][\"Name\"]\n",
    "print(ListDicts)"
   ]
  },
  {
   "cell_type": "code",
   "execution_count": 93,
   "metadata": {},
   "outputs": [
    {
     "name": "stdout",
     "output_type": "stream",
     "text": [
      "[{'phone_number': '0123456789'}, {'Name': 'Ali', 'phone_number': '5678901234'}, {'Name': 'Ahmed', 'phone_number': '9012345678'}, {'Name': 'Mohammed', 'phone_number': '2222222222'}]\n"
     ]
    }
   ],
   "source": [
    "ListDicts[len(ListDicts)-1][\"phone_number\"]=\"2222222222\"\n",
    "print(ListDicts)   "
   ]
  },
  {
   "cell_type": "code",
   "execution_count": 94,
   "metadata": {},
   "outputs": [
    {
     "name": "stdout",
     "output_type": "stream",
     "text": [
      "False\n"
     ]
    }
   ],
   "source": [
    "print('Name' in ListDicts[0])"
   ]
  }
 ],
 "metadata": {
  "interpreter": {
   "hash": "aee8b7b246df8f9039afb4144a1f6fd8d2ca17a180786b69acc140d282b71a49"
  },
  "kernelspec": {
   "display_name": "Python 3.10.11 64-bit",
   "language": "python",
   "name": "python3"
  },
  "language_info": {
   "codemirror_mode": {
    "name": "ipython",
    "version": 3
   },
   "file_extension": ".py",
   "mimetype": "text/x-python",
   "name": "python",
   "nbconvert_exporter": "python",
   "pygments_lexer": "ipython3",
   "version": "3.10.11"
  },
  "orig_nbformat": 4
 },
 "nbformat": 4,
 "nbformat_minor": 2
}
